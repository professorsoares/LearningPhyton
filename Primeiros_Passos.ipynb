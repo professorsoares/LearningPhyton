{
  "nbformat": 4,
  "nbformat_minor": 0,
  "metadata": {
    "colab": {
      "name": "Primeiros_Passos.ipynb",
      "provenance": [],
      "collapsed_sections": [],
      "authorship_tag": "ABX9TyPVZ0Pb22rkmMXgW5GCvPv/",
      "include_colab_link": true
    },
    "kernelspec": {
      "name": "python3",
      "display_name": "Python 3"
    },
    "language_info": {
      "name": "python"
    }
  },
  "cells": [
    {
      "cell_type": "markdown",
      "metadata": {
        "id": "view-in-github",
        "colab_type": "text"
      },
      "source": [
        "<a href=\"https://colab.research.google.com/github/savannes/LearningPhyton/blob/main/Primeiros_Passos.ipynb\" target=\"_parent\"><img src=\"https://colab.research.google.com/assets/colab-badge.svg\" alt=\"Open In Colab\"/></a>"
      ]
    },
    {
      "cell_type": "markdown",
      "source": [
        "# Criando minha primeira função\n"
      ],
      "metadata": {
        "id": "WamJWcV14cwI"
      }
    },
    {
      "cell_type": "code",
      "source": [
        "def saudacao():\n",
        "  nome = input('Qual é o seu nome? ')\n",
        "  print(f'Olá {nome}! ')\n",
        "  \n"
      ],
      "metadata": {
        "id": "nElgV6EF4zEX"
      },
      "execution_count": null,
      "outputs": []
    },
    {
      "cell_type": "code",
      "source": [
        "saudacao()"
      ],
      "metadata": {
        "colab": {
          "base_uri": "https://localhost:8080/"
        },
        "id": "9n_36Apr7cVf",
        "outputId": "1224a886-4e4a-4ca3-ae4b-c68e2db1eec7"
      },
      "execution_count": null,
      "outputs": [
        {
          "output_type": "stream",
          "name": "stdout",
          "text": [
            "Qual é o seu nome? Savanne\n",
            "Olá Savanne! \n"
          ]
        }
      ]
    },
    {
      "cell_type": "markdown",
      "source": [
        "# Parâmetros\n"
      ],
      "metadata": {
        "id": "8Qwr_gCkrOqF"
      }
    },
    {
      "cell_type": "markdown",
      "source": [
        "nome = 'Savanne'"
      ],
      "metadata": {
        "id": "84X_H2MkrKaP"
      }
    },
    {
      "cell_type": "code",
      "source": [
        "def saudacao_com_parametros(nome_da_pessoa):\n",
        "  print(f'Olá {nome_da_pessoa}')"
      ],
      "metadata": {
        "id": "0Y0ejYzCAr__"
      },
      "execution_count": null,
      "outputs": []
    },
    {
      "cell_type": "code",
      "source": [
        "saudacao_com_parametros(nome)"
      ],
      "metadata": {
        "colab": {
          "base_uri": "https://localhost:8080/"
        },
        "id": "Dq1Eg3VzA0xR",
        "outputId": "a96d567f-2d88-45e6-957b-544986c0687d"
      },
      "execution_count": null,
      "outputs": [
        {
          "output_type": "stream",
          "name": "stdout",
          "text": [
            "Olá Savanne\n"
          ]
        }
      ]
    },
    {
      "cell_type": "markdown",
      "source": [
        "# Condicionais"
      ],
      "metadata": {
        "id": "yclIu3D5H1kt"
      }
    },
    {
      "cell_type": "code",
      "source": [
        "idade = 15\n",
        "\n",
        "def verifica_idade_dirigir(idade):\n",
        "  if idade >=18:\n",
        "    print('Tem permissão para dirigir')\n",
        "  else:\n",
        "    print('Não tem permissão para dirigir')\n",
        "verifica_idade_dirigir(idade)"
      ],
      "metadata": {
        "colab": {
          "base_uri": "https://localhost:8080/"
        },
        "id": "ER0iQDbJA499",
        "outputId": "b9de4770-9269-4597-b921-f2c74b764f84"
      },
      "execution_count": null,
      "outputs": [
        {
          "output_type": "stream",
          "name": "stdout",
          "text": [
            "Não tem permissão para dirigir\n"
          ]
        }
      ]
    },
    {
      "cell_type": "code",
      "source": [
        "idade = 20\n",
        "verifica_idade_dirigir(idade)\n",
        "\n"
      ],
      "metadata": {
        "colab": {
          "base_uri": "https://localhost:8080/"
        },
        "id": "yElrSLa1Iud5",
        "outputId": "d238f893-b417-46d9-edaf-8e1d0c71f6b0"
      },
      "execution_count": null,
      "outputs": [
        {
          "output_type": "stream",
          "name": "stdout",
          "text": [
            "Tem permissão para dirigir\n"
          ]
        }
      ]
    },
    {
      "cell_type": "markdown",
      "source": [
        ""
      ],
      "metadata": {
        "id": "EqmIU3P3QeMX"
      }
    },
    {
      "cell_type": "markdown",
      "source": [
        ""
      ],
      "metadata": {
        "id": "tVlNMTodQdww"
      }
    },
    {
      "cell_type": "markdown",
      "source": [
        "# Conversão string em inteiro"
      ],
      "metadata": {
        "id": "3Ra6SaXWNrW9"
      }
    },
    {
      "cell_type": "code",
      "source": [
        "def verifica_idade_dirigir_sem_parametro():\n",
        "  idade=int(input('Qual é a sua idade?'))\n",
        "  if idade >=18:\n",
        "    print('Tem permissão para dirigir')\n",
        "  else:\n",
        "    print('Não tem permissão para dirigir')\n",
        "verifica_idade_dirigir_sem_parametro()"
      ],
      "metadata": {
        "colab": {
          "base_uri": "https://localhost:8080/"
        },
        "id": "k8YzRpo2P3BU",
        "outputId": "f542fecc-1d45-4cba-e7ff-ef1c652acfb9"
      },
      "execution_count": null,
      "outputs": [
        {
          "output_type": "stream",
          "name": "stdout",
          "text": [
            "Qual é a sua idade?10\n",
            "Não tem permissão para dirigir\n"
          ]
        }
      ]
    },
    {
      "cell_type": "code",
      "source": [
        "verifica_idade_dirigir_sem_parametro()"
      ],
      "metadata": {
        "colab": {
          "base_uri": "https://localhost:8080/"
        },
        "id": "Bqwk2L_WQuIc",
        "outputId": "25bbed2a-335b-4e9e-dc8a-9addf11224da"
      },
      "execution_count": null,
      "outputs": [
        {
          "output_type": "stream",
          "name": "stdout",
          "text": [
            "Qual é a sua idade?20\n",
            "Tem permissão para dirigir\n"
          ]
        }
      ]
    },
    {
      "cell_type": "markdown",
      "source": [
        "# Exercício: Indo até a padaria"
      ],
      "metadata": {
        "id": "M_aONmxXQ4VP"
      }
    },
    {
      "cell_type": "markdown",
      "source": [
        "Uma pessoa vai até a padaria todos os dias. A distância de sua casa até o estabelecimento é de 100 metros e todo percurso é feito em 20 segundos.\n",
        "\n",
        "Para calcular a velocidade média e descobrir a razão do espaço pelo tempo, podemos dividir o espaço percorrido pelo tempo.\n",
        "\n",
        "Sabendo disso, a pessoa deseja criar uma função chamada velocidade, que recebe 2 parâmetros chamados espaco e tempo, realizar o cálculo e exibir uma saída semelhante ao exemplo abaixo:"
      ],
      "metadata": {
        "id": "MHkhfcIIRTSQ"
      }
    },
    {
      "cell_type": "code",
      "source": [
        ""
      ],
      "metadata": {
        "id": "AZzba5sNS_DP"
      },
      "execution_count": null,
      "outputs": []
    },
    {
      "cell_type": "code",
      "source": [
        "def velocidade(espaco,tempo):\n",
        "  espaco = 100\n",
        "  tempo = 20\n",
        "  print (f'Velocidade = {espaco/tempo} m/s')\n",
        "  "
      ],
      "metadata": {
        "id": "4Bt13ZSVReVh"
      },
      "execution_count": null,
      "outputs": []
    },
    {
      "cell_type": "code",
      "source": [
        "velocidade(espaco,tempo)"
      ],
      "metadata": {
        "colab": {
          "base_uri": "https://localhost:8080/"
        },
        "id": "WvnGNR2HSlIT",
        "outputId": "08348c71-bba2-401f-c038-fb1f14fce449"
      },
      "execution_count": null,
      "outputs": [
        {
          "output_type": "stream",
          "name": "stdout",
          "text": [
            "Velocidade = 5.0 m/s\n"
          ]
        }
      ]
    },
    {
      "cell_type": "markdown",
      "source": [
        "# Habilitação e TypeError"
      ],
      "metadata": {
        "id": "78xY0MPAre7D"
      }
    },
    {
      "cell_type": "markdown",
      "source": [
        "Uma pessoa criou a seguinte função para descobrir quantos anos faltam para tirar habilitação, caso não tenha a idade permitida. Caso tenha, uma mensagem informa que pode tirar habilitação:\n",
        "\n",
        "\n",
        "\n",
        "```\n",
        "def habilitacao():\n",
        " idade = input('Qual sua idade? ')\n",
        " if idade >= 18:\n",
        "   print('Pode tirar habilitação')\n",
        " else:\n",
        "   tempo = 18 - idade\n",
        "   print(f'Calma... espere {tempo} ano(s) para tirar habilitação')\n",
        "   habilitacao()\n",
        "```\n",
        "\n",
        "\n",
        "Porém, ao executar a função recebe a seguinte mensagem de erro:\n",
        "\n",
        "`TypeError: '>=' not supported between instances of 'str' and 'int'`"
      ],
      "metadata": {
        "id": "EtvCzsg7rgxe"
      }
    },
    {
      "cell_type": "code",
      "source": [
        "def habilitacao():\n",
        " idade = int(input('Qual sua idade? '))\n",
        " if idade >= 18:\n",
        "   print('Pode tirar habilitação')\n",
        " else:\n",
        "   tempo = 18 - idade\n",
        "   print(f'Calma... espere {tempo} ano(s) para tirar habilitação')\n",
        "   "
      ],
      "metadata": {
        "id": "T_tzpurAsUbG"
      },
      "execution_count": null,
      "outputs": []
    },
    {
      "cell_type": "code",
      "source": [
        "habilitacao()"
      ],
      "metadata": {
        "colab": {
          "base_uri": "https://localhost:8080/"
        },
        "id": "7ayM6ELkscMJ",
        "outputId": "cfa39f4c-59d3-4e60-e058-74097bd72376"
      },
      "execution_count": null,
      "outputs": [
        {
          "output_type": "stream",
          "name": "stdout",
          "text": [
            "Qual sua idade? 33\n",
            "Pode tirar habilitação\n"
          ]
        }
      ]
    },
    {
      "cell_type": "code",
      "source": [
        "habilitacao()"
      ],
      "metadata": {
        "colab": {
          "base_uri": "https://localhost:8080/"
        },
        "id": "dyxV0pFNsfSp",
        "outputId": "00e09219-bf2f-4dea-b111-7c73b79d9aa5"
      },
      "execution_count": null,
      "outputs": [
        {
          "output_type": "stream",
          "name": "stdout",
          "text": [
            "Qual sua idade? 12\n",
            "Calma... espere 6 ano(s) para tirar habilitação\n"
          ]
        }
      ]
    },
    {
      "cell_type": "markdown",
      "source": [
        ""
      ],
      "metadata": {
        "id": "rgQSWN0LrsY2"
      }
    }
  ]
}